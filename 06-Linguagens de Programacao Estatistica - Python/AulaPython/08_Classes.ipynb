{
 "cells": [
  {
   "cell_type": "markdown",
   "metadata": {},
   "source": [
    "## Classes"
   ]
  },
  {
   "cell_type": "code",
   "execution_count": 3,
   "metadata": {},
   "outputs": [],
   "source": [
    "# Criando uma classe chamada Livro\n",
    "class Livro():\n",
    "    \n",
    "    # Este método vai inicializar cada objeto criado a partir desta classe\n",
    "    # O nome deste método é __init__\n",
    "    # (self) é uma referência a cada atributo de um objeto criado a partir desta classe\n",
    "    def __init__(self):\n",
    "        \n",
    "        # Atributos de cada objeto criado a partir desta classe. \n",
    "        # O self indica que estes são atributos dos objetos\n",
    "        self.titulo = 'O Monge e o Executivo'\n",
    "        self.isbn = 9988888\n",
    "        print(\"Construtor chamado para criar um objeto desta classe\")\n",
    "        \n",
    "    # Métodos são funções, que recebem como parâmetro atributos do objeto criado    \n",
    "    def imprime(self):\n",
    "        print(\"Foi criado o livro %s e ISBN %d\" % (self.titulo, self.isbn))"
   ]
  },
  {
   "cell_type": "code",
   "execution_count": 6,
   "metadata": {},
   "outputs": [
    {
     "name": "stdout",
     "output_type": "stream",
     "text": [
      "Construtor chamado para criar um objeto desta classe\n",
      "Foi criado o livro O Monge e o Executivo e ISBN 9988888\n"
     ]
    }
   ],
   "source": [
    "# Criando uma instância da classe Livro\n",
    "Livro1 = Livro()\n",
    "Livro1.titulo"
   ]
  },
  {
   "cell_type": "code",
   "execution_count": 5,
   "metadata": {},
   "outputs": [
    {
     "name": "stdout",
     "output_type": "stream",
     "text": [
      "Foi criado o livro O Monge e o Executivo e ISBN 9988888\n"
     ]
    }
   ],
   "source": [
    "# Método do objeto Livro1\n",
    "Livro1.imprime()"
   ]
  },
  {
   "cell_type": "code",
   "execution_count": null,
   "metadata": {},
   "outputs": [],
   "source": []
  }
 ],
 "metadata": {
  "kernelspec": {
   "display_name": "Python 3",
   "language": "python",
   "name": "python3"
  },
  "language_info": {
   "codemirror_mode": {
    "name": "ipython",
    "version": 3
   },
   "file_extension": ".py",
   "mimetype": "text/x-python",
   "name": "python",
   "nbconvert_exporter": "python",
   "pygments_lexer": "ipython3",
   "version": "3.7.0"
  }
 },
 "nbformat": 4,
 "nbformat_minor": 1
}
