{
 "cells": [
  {
   "cell_type": "code",
   "execution_count": 25,
   "metadata": {},
   "outputs": [
    {
     "name": "stdout",
     "output_type": "stream",
     "text": [
      "0.895\n"
     ]
    }
   ],
   "source": [
    "import pandas as pd\n",
    "from sklearn.linear_model import LogisticRegression\n",
    "from sklearn.model_selection import train_test_split\n",
    "from sklearn.metrics import confusion_matrix\n",
    "from sklearn.metrics import accuracy_score\n",
    "\n",
    "creditData = pd.read_csv(\"..\\\\credit_data.csv\")\n",
    "\n",
    "#print(creditData.head())\n",
    "#print(creditData.describe())\n",
    "#print(creditData.corr())\n",
    "\n",
    "features = creditData[[\"income\",\"age\",\"loan\"]]\n",
    "target = creditData.default\n",
    "\n",
    "feature_train, feature_test, target_train, target_test = train_test_split(features,target, test_size=0.3)\n",
    "\n",
    "model = LogisticRegression()\n",
    "model.fit = model.fit(feature_train, target_train)\n",
    "predictions = model.fit.predict(feature_test)\n",
    "\n",
    "#print(confusion_matrix(target_test, predictions))\n",
    "print(accuracy_score(target_test,predictions))"
   ]
  },
  {
   "cell_type": "code",
   "execution_count": null,
   "metadata": {},
   "outputs": [],
   "source": []
  }
 ],
 "metadata": {
  "kernelspec": {
   "display_name": "Python 3",
   "language": "python",
   "name": "python3"
  },
  "language_info": {
   "codemirror_mode": {
    "name": "ipython",
    "version": 3
   },
   "file_extension": ".py",
   "mimetype": "text/x-python",
   "name": "python",
   "nbconvert_exporter": "python",
   "pygments_lexer": "ipython3",
   "version": "3.6.4"
  }
 },
 "nbformat": 4,
 "nbformat_minor": 2
}
