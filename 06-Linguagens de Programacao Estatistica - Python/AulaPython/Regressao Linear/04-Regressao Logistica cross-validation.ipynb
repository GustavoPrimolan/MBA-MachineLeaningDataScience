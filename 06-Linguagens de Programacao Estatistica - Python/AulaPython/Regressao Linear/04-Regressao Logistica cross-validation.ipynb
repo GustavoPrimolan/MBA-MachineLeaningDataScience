{
 "cells": [
  {
   "cell_type": "code",
   "execution_count": 3,
   "metadata": {},
   "outputs": [
    {
     "name": "stdout",
     "output_type": "stream",
     "text": [
      "0.913\n"
     ]
    }
   ],
   "source": [
    "import pandas as pd\n",
    "from sklearn.linear_model import LogisticRegression\n",
    "from sklearn import cross_validation\n",
    "from sklearn.metrics import accuracy_score\n",
    "\n",
    "creditData = pd.read_csv(\"..\\\\credit_data.csv\")\n",
    "\n",
    "features = creditData[[\"income\",\"age\",\"loan\"]]\n",
    "target = creditData.default\n",
    "\n",
    "model = LogisticRegression()\n",
    "predicted = cross_validation.cross_val_predict(model,features,target, cv=10)\n",
    "\n",
    "print(accuracy_score(target,predicted))"
   ]
  }
 ],
 "metadata": {
  "kernelspec": {
   "display_name": "Python 3",
   "language": "python",
   "name": "python3"
  },
  "language_info": {
   "codemirror_mode": {
    "name": "ipython",
    "version": 3
   },
   "file_extension": ".py",
   "mimetype": "text/x-python",
   "name": "python",
   "nbconvert_exporter": "python",
   "pygments_lexer": "ipython3",
   "version": "3.6.4"
  }
 },
 "nbformat": 4,
 "nbformat_minor": 2
}
