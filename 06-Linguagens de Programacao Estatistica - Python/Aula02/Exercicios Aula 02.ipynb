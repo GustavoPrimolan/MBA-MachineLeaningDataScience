{
 "cells": [
  {
   "cell_type": "markdown",
   "metadata": {},
   "source": [
    "# Exercício Aula 02"
   ]
  },
  {
   "cell_type": "markdown",
   "metadata": {},
   "source": [
    "### Exercício 04 - Continuação Dataset Boston Housing\n",
    "\n",
    "Com base no Exercício 03 da aula passada, utilize o Backward elimination para definir quais variáveis devem ser utilizadas no modelo de Regressão Linear Múltipla."
   ]
  },
  {
   "cell_type": "markdown",
   "metadata": {},
   "source": [
    "Resultado esperado:\n",
    "<img src=\"imagens/esp04.png\" width=\"500px\" />"
   ]
  },
  {
   "cell_type": "code",
   "execution_count": null,
   "metadata": {},
   "outputs": [],
   "source": []
  },
  {
   "cell_type": "code",
   "execution_count": 25,
   "metadata": {},
   "outputs": [
    {
     "name": "stdout",
     "output_type": "stream",
     "text": [
      "21.90304622291869\n"
     ]
    }
   ],
   "source": [
    "# DICA: Calcular o MSE (Mean Squared Error) de uma Regressão Linear Múltipla\n",
    "mse1 = np.mean((y - regr.predict(X)) ** 2)\n",
    "print(mse1)"
   ]
  },
  {
   "cell_type": "markdown",
   "metadata": {},
   "source": [
    "### Exercício 05 - Análise DataSet Facebook Insights\n",
    "\n",
    "Realizar uma análise exploratória no arquivo facebookinsight.csv p/ descobrir:\n",
    "\n",
    "<ol>\n",
    "    <li>qual tipo de post tem mais likes? e shares? e comentários?</li>\n",
    "    <li>qual é a relação entre likes, shares, comentários e reach?</li>\n",
    "    <li>qual é a relação dos horários em que o post foi publicado com os likes?</li>\n",
    "    <li>há diferença nos comportamentos dos likes, comments e shares por dia da semana?</li>\n",
    "    <li>qual tipo de post é mais publicado?</li>\n",
    "    <li>há algum post outlier no número de likes, shares, comments e reach? Identifique-os.</li>\n",
    "    <li>faça uma análise extra, não especificada nos itens anteriores, que você julgue ser interessante.</li>\n",
    "</ol>\n"
   ]
  }
 ],
 "metadata": {
  "kernelspec": {
   "display_name": "Python 3",
   "language": "python",
   "name": "python3"
  },
  "language_info": {
   "codemirror_mode": {
    "name": "ipython",
    "version": 3
   },
   "file_extension": ".py",
   "mimetype": "text/x-python",
   "name": "python",
   "nbconvert_exporter": "python",
   "pygments_lexer": "ipython3",
   "version": "3.7.0"
  }
 },
 "nbformat": 4,
 "nbformat_minor": 1
}
