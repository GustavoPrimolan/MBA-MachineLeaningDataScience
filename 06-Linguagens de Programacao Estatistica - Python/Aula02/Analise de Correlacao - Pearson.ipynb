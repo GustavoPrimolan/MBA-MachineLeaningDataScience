{
 "cells": [
  {
   "cell_type": "code",
   "execution_count": 6,
   "metadata": {},
   "outputs": [
    {
     "data": {
      "text/plain": [
       "(-0.9911708338405291, 2.6305587490829267e-08)"
      ]
     },
     "execution_count": 6,
     "metadata": {},
     "output_type": "execute_result"
    }
   ],
   "source": [
    "from scipy import stats # importa o módulo stats do scipy\n",
    "\n",
    "a = [36, 43, 49, 55, 61, 63, 69, 72, 74, 77] # declara as variáveis e seus valores\n",
    "b = [350, 330, 296, 252, 230, 218, 203, 196, 188, 167]\n",
    "\n",
    "# mostra a docstring da função scipy.stats.pearsonr\n",
    "#print(stats.pearsonr.__doc__)\n",
    "\n",
    "stats.pearsonr(a, b)\n"
   ]
  }
 ],
 "metadata": {
  "kernelspec": {
   "display_name": "Python 3",
   "language": "python",
   "name": "python3"
  },
  "language_info": {
   "codemirror_mode": {
    "name": "ipython",
    "version": 3
   },
   "file_extension": ".py",
   "mimetype": "text/x-python",
   "name": "python",
   "nbconvert_exporter": "python",
   "pygments_lexer": "ipython3",
   "version": "3.7.0"
  }
 },
 "nbformat": 4,
 "nbformat_minor": 2
}
